{
 "cells": [
  {
   "cell_type": "markdown",
   "metadata": {},
   "source": [
    "# Rossmann store sales data wrangling"
   ]
  },
  {
   "cell_type": "markdown",
   "metadata": {},
   "source": [
    "### Background"
   ]
  },
  {
   "cell_type": "markdown",
   "metadata": {},
   "source": [
    "Rossmann  operates  over  3,000  drug  stores  in  7  European  countries.  \n",
    "Currently, Rossmann store managers are tasked with predicting their daily sales for up to six weeks   in   advance.   \n",
    "Store   sales   are   influenced   by   many   factors,   including promotions, competition, school and state holidays,\n",
    "seasonality, and locality."
   ]
  },
  {
   "cell_type": "markdown",
   "metadata": {},
   "source": [
    "### Problem Statement"
   ]
  },
  {
   "cell_type": "markdown",
   "metadata": {},
   "source": [
    "Predict 6 weeks of daily sales for 1115 drug stores operated by Rossmann located across Germany to enable store managers\n",
    "to create effective staff schedules that increase productivity and motivation. "
   ]
  },
  {
   "cell_type": "code",
   "execution_count": 2,
   "metadata": {
    "collapsed": true
   },
   "outputs": [],
   "source": [
    "import pandas as pd\n",
    "import numpy as np\n",
    "# data visualization\n",
    "import matplotlib.pyplot as plt\n",
    "import seaborn as sns\n",
    "%matplotlib inline"
   ]
  },
  {
   "cell_type": "code",
   "execution_count": 3,
   "metadata": {},
   "outputs": [
    {
     "name": "stderr",
     "output_type": "stream",
     "text": [
      "C:\\ProgramData\\Anaconda3\\lib\\site-packages\\IPython\\core\\interactiveshell.py:2698: DtypeWarning: Columns (7) have mixed types. Specify dtype option on import or set low_memory=False.\n",
      "  interactivity=interactivity, compiler=compiler, result=result)\n"
     ]
    }
   ],
   "source": [
    "# importing the dataset\n",
    "train = pd.read_csv('train.csv', parse_dates = True, index_col = 'Date')\n",
    "test = pd.read_csv('test.csv')\n",
    "store = pd.read_csv('store.csv')"
   ]
  },
  {
   "cell_type": "code",
   "execution_count": 4,
   "metadata": {},
   "outputs": [
    {
     "name": "stdout",
     "output_type": "stream",
     "text": [
      "Training Data : (1017209, 8)\n",
      "Test Data : (41088, 8)\n",
      "Store Data : (1115, 10)\n"
     ]
    }
   ],
   "source": [
    "print(\"Training Data :\", train.shape)\n",
    "print(\"Test Data :\", test.shape)\n",
    "print(\"Store Data :\", store.shape)"
   ]
  },
  {
   "cell_type": "code",
   "execution_count": null,
   "metadata": {
    "collapsed": true
   },
   "outputs": [],
   "source": [
    "train.head()"
   ]
  },
  {
   "cell_type": "markdown",
   "metadata": {},
   "source": [
    "##### Data field discussion\n",
    "\n",
    "- Sales: the turnover for any given day (target variable).\n",
    "- Customers: the number of customers on a given day.\n",
    "- Open: an indicator for whether the store was open: 0 = closed, 1 = open.\n",
    "- Promo: indicates whether a store is running a promo on that day.\n",
    "- StateHoliday: indicates a state holiday. Normally all stores, with few exceptions, are closed on state holidays. \n",
    "- SchoolHoliday: indicates if the (Store, Date) was affected by the closure of public schools."
   ]
  },
  {
   "cell_type": "markdown",
   "metadata": {},
   "source": [
    "## Data Extraction"
   ]
  },
  {
   "cell_type": "code",
   "execution_count": null,
   "metadata": {
    "collapsed": true
   },
   "outputs": [],
   "source": [
    "train['Year'] = train.index.year\n",
    "train['Month'] = train.index.month\n",
    "train['Day'] = train.index.day\n",
    "train['WeekOfYear'] = train.index.weekofyear\n",
    "# Adding new variable\n",
    "train['SalesPerCustomer'] = train['Sales'] / train['Customers']\n",
    "train['SalesPerCustomer'].describe()"
   ]
  },
  {
   "cell_type": "markdown",
   "metadata": {},
   "source": [
    "From above data we can conclude that maximum sale per customer is EURO 64.95 and minimum sale is EURO 0."
   ]
  },
  {
   "cell_type": "markdown",
   "metadata": {},
   "source": [
    "### Dealing with Missing values and other factors"
   ]
  },
  {
   "cell_type": "markdown",
   "metadata": {},
   "source": [
    "#### Closed Stores and Zero sales stores"
   ]
  },
  {
   "cell_type": "code",
   "execution_count": null,
   "metadata": {
    "collapsed": true
   },
   "outputs": [],
   "source": [
    "closed_stores_zero_sales =  train[(train.Open == 0) & (train.Sales == 0)]\n",
    "closed_stores_zero_sales.shape"
   ]
  },
  {
   "cell_type": "markdown",
   "metadata": {},
   "source": [
    "There are about 172817 closed stores in the data and it is about 10 % of total data. So, to avoid any biased factor we will drop these values."
   ]
  },
  {
   "cell_type": "markdown",
   "metadata": {},
   "source": [
    "#### Open stores with zero sales"
   ]
  },
  {
   "cell_type": "code",
   "execution_count": null,
   "metadata": {
    "collapsed": true
   },
   "outputs": [],
   "source": [
    "open_stores_zero_sales = train[(train.Open != 0) & (train.Sales == 0)]\n",
    "open_stores_zero_sales.shape"
   ]
  },
  {
   "cell_type": "markdown",
   "metadata": {},
   "source": [
    "Only 54 days in this data when there is no sale on working day. so we can assume that there were external factors involved"
   ]
  },
  {
   "cell_type": "markdown",
   "metadata": {},
   "source": [
    "So, Remove the data of closed stores and days which didn't have any sale"
   ]
  },
  {
   "cell_type": "code",
   "execution_count": null,
   "metadata": {
    "collapsed": true
   },
   "outputs": [],
   "source": [
    "train = train[(train.Open != 0) & (train.Sales != 0)]\n",
    "train.shape"
   ]
  },
  {
   "cell_type": "markdown",
   "metadata": {},
   "source": [
    "### Analysis of  Store information"
   ]
  },
  {
   "cell_type": "code",
   "execution_count": null,
   "metadata": {
    "collapsed": true
   },
   "outputs": [],
   "source": [
    "# Additional information about stores\n",
    "store.head()"
   ]
  },
  {
   "cell_type": "markdown",
   "metadata": {},
   "source": [
    "#### Data Field\n",
    "- Store: a unique Id for each store\n",
    "- StoreType: differentiates between 4 different store models: a, b, c, d\n",
    "- Assortment: describes an assortment level: a = basic, b = extra, c = extended\n",
    "- CompetitionDistance: distance in meters to the nearest competitor store\n",
    "- CompetitionOpenSince[Month/Year]: gives the approximate year and month of the time the nearest competitor was opened\n",
    "- Promo2: Promo2 is a continuing a promotion for some stores: 0 = store is not participating, 1 = store is participating\n",
    "- Promo2Since[Year/Week]: describes the year and calendar week when the store started participating in Promo2\n",
    "- PromoInterval: describes the consecutive intervals Promo2 is started, naming the months the promotion is started. E.g.  --                      \"Feb,May,Aug,Nov\" means each round starts in February, May, August, November of any given year for that store"
   ]
  },
  {
   "cell_type": "markdown",
   "metadata": {},
   "source": [
    "### Dealing with missing values of Store data"
   ]
  },
  {
   "cell_type": "code",
   "execution_count": null,
   "metadata": {
    "collapsed": true
   },
   "outputs": [],
   "source": [
    "# Missing values\n",
    "store.isnull().sum()"
   ]
  },
  {
   "cell_type": "code",
   "execution_count": null,
   "metadata": {
    "collapsed": true
   },
   "outputs": [],
   "source": [
    "# Missing values in CompetitionDistance            \n",
    "store[pd.isnull(store.CompetitionDistance)]"
   ]
  },
  {
   "cell_type": "markdown",
   "metadata": {},
   "source": [
    "So, in CompetitionDistance replace NaN with median value because there is no paticular pattern."
   ]
  },
  {
   "cell_type": "code",
   "execution_count": null,
   "metadata": {
    "collapsed": true
   },
   "outputs": [],
   "source": [
    "store['CompetitionDistance'].fillna(store['CompetitionDistance'].median(), inplace = True)"
   ]
  },
  {
   "cell_type": "markdown",
   "metadata": {},
   "source": [
    "if there's no Promo2 then there's no information about it. We can replace these values by zeros. The same goes for tha variables deducted from the competition, CompetitionOpenSinceMonth and CompetitionOpenSinceYear, Promo2SinceWeek, Promo2SinceYear, PromoInterval."
   ]
  },
  {
   "cell_type": "code",
   "execution_count": null,
   "metadata": {
    "collapsed": true
   },
   "outputs": [],
   "source": [
    "# Fill all NaN with zeros\n",
    "store.fillna(0, inplace = True)"
   ]
  },
  {
   "cell_type": "code",
   "execution_count": null,
   "metadata": {
    "collapsed": true
   },
   "outputs": [],
   "source": [
    "print(\"Joining train set with an additional store information.\")\n",
    "\n",
    "# by specifying inner join we make sure that only those observations \n",
    "# that are present in both train and store sets are merged together\n",
    "train_store = pd.merge(train, store, how = 'inner', on = 'Store')\n",
    "\n",
    "print(\"In total: \", train_store.shape)\n",
    "train_store.head()"
   ]
  },
  {
   "cell_type": "markdown",
   "metadata": {},
   "source": [
    "## Exploratory Data Analysis"
   ]
  },
  {
   "cell_type": "markdown",
   "metadata": {},
   "source": [
    "## Distribution of Sales and Customers"
   ]
  },
  {
   "cell_type": "code",
   "execution_count": null,
   "metadata": {
    "collapsed": true
   },
   "outputs": [],
   "source": [
    "sns.jointplot(x=\"Customers\" , y=\"Sales\" , data = train, kind = \"reg\" , size=7)"
   ]
  },
  {
   "cell_type": "markdown",
   "metadata": {},
   "source": [
    "### Correlational Analysis"
   ]
  },
  {
   "cell_type": "code",
   "execution_count": null,
   "metadata": {
    "collapsed": true
   },
   "outputs": [],
   "source": [
    "# HeatMap\n",
    "# Compute the correlation matrix \n",
    "# exclude 'Open' variable\n",
    "corr_all = train_store.drop('Open', axis = 1).corr()\n",
    "\n",
    "# Generate a mask for the upper triangle\n",
    "mask = np.zeros_like(corr_all, dtype = np.bool)\n",
    "mask[np.triu_indices_from(mask)] = True\n",
    "\n",
    "# Set up the matplotlib figure\n",
    "f, ax = plt.subplots(figsize = (11, 9))\n",
    "\n",
    "# Draw the heatmap with the mask and correct aspect ratio\n",
    "sns.heatmap(corr_all, mask = mask,square = True, linewidths = .5, ax = ax, cmap = \"BuPu\")      \n",
    "plt.show()"
   ]
  },
  {
   "cell_type": "markdown",
   "metadata": {},
   "source": [
    "Relationship between two columns.\n",
    "\n",
    "the amount of Sales and Customers of a store\n",
    "\n",
    "promotion (Promo equal to 1) and amount of Customers"
   ]
  },
  {
   "cell_type": "markdown",
   "metadata": {},
   "source": [
    "## Store Types"
   ]
  },
  {
   "cell_type": "markdown",
   "metadata": {},
   "source": [
    "In this section, we will look at different types of Stores and how sales is distributed among stores."
   ]
  },
  {
   "cell_type": "markdown",
   "metadata": {},
   "source": [
    "print an overall sum of Sales and Customers to see which StoreType is the most selling and crowded one:"
   ]
  },
  {
   "cell_type": "code",
   "execution_count": null,
   "metadata": {
    "collapsed": true
   },
   "outputs": [],
   "source": [
    "train_store.groupby('StoreType')['Customers', 'Sales'].sum()"
   ]
  },
  {
   "cell_type": "markdown",
   "metadata": {},
   "source": [
    "Clearly, StoreType A is most selling and crowded one."
   ]
  },
  {
   "cell_type": "markdown",
   "metadata": {},
   "source": [
    "## Promo - Sales trend Analysis with StoreTypes"
   ]
  },
  {
   "cell_type": "code",
   "execution_count": null,
   "metadata": {
    "collapsed": true
   },
   "outputs": [],
   "source": [
    "# Sales Trends\n",
    "sns.factorplot(data = train_store, x = 'Month', y = \"Sales\", \n",
    "               row = 'Promo', # per promo in the store in rows\n",
    "               col = 'StoreType', # per store type in col\n",
    "               )"
   ]
  },
  {
   "cell_type": "markdown",
   "metadata": {},
   "source": [
    "Promo has significant effect on sales of each store."
   ]
  },
  {
   "cell_type": "markdown",
   "metadata": {},
   "source": [
    "##  Promo - Customers trend Analysis with StoreTypes"
   ]
  },
  {
   "cell_type": "code",
   "execution_count": null,
   "metadata": {
    "collapsed": true
   },
   "outputs": [],
   "source": [
    "\n",
    "sns.factorplot(data = train_store, x = 'Month', y = \"Customers\", \n",
    "               row = 'Promo', # per promo in the store in rows\n",
    "               col = 'StoreType', # per store type in col\n",
    "               ) "
   ]
  },
  {
   "cell_type": "markdown",
   "metadata": {},
   "source": [
    "All store types follow the same trend but at different scales depending on the presence of the Promo and StoreType itself."
   ]
  },
  {
   "cell_type": "markdown",
   "metadata": {},
   "source": [
    "## Sales per customer Trends"
   ]
  },
  {
   "cell_type": "code",
   "execution_count": null,
   "metadata": {
    "collapsed": true
   },
   "outputs": [],
   "source": [
    "# Sales per customer Trends\n",
    "sns.factorplot(data = train_store, x = 'Month', y = \"SalesPerCustomer\", \n",
    "               row = 'Promo', # per promo in the store in rows\n",
    "               col = 'StoreType', # per store type in col\n",
    "               ) "
   ]
  },
  {
   "cell_type": "markdown",
   "metadata": {},
   "source": [
    "The highest SalePerCustomer amount is observed at the StoreType D.\n",
    "\n",
    "Low SalePerCustomer amount for StoreType B describes its Buyer Cart: there are a lot of people who shop essentially for \"small\" things (or in a little quantity)."
   ]
  },
  {
   "cell_type": "code",
   "execution_count": null,
   "metadata": {
    "collapsed": true
   },
   "outputs": [],
   "source": [
    "sns.factorplot(data = train_store, x = 'DayOfWeek', y = \"Sales\", \n",
    "               row = 'Promo2',\n",
    "               col = 'Promo', \n",
    "              ) "
   ]
  },
  {
   "cell_type": "markdown",
   "metadata": {},
   "source": [
    "Customers tends to buy more on Monday (1) when there's one promotion (Promo) and on Sunday (7) when there's no promotion at all (both Promo and Promo1 are equal to 0)."
   ]
  },
  {
   "cell_type": "markdown",
   "metadata": {},
   "source": [
    "## Stores sales according to DayOf Week"
   ]
  },
  {
   "cell_type": "code",
   "execution_count": null,
   "metadata": {
    "collapsed": true
   },
   "outputs": [],
   "source": [
    "# Stores according to Day Of Week\n",
    "sns.factorplot(data = train_store, x = 'Month', y = \"Sales\", \n",
    "               row = 'StoreType', # per promo in the store in rows\n",
    "               col = 'DayOfWeek', # per store type in col\n",
    "               ) "
   ]
  },
  {
   "cell_type": "markdown",
   "metadata": {},
   "source": [
    "We see that stores of StoreType C are all closed on Sundays, whereas others are most of the time opened. \n",
    "\n",
    "Interestingly enough, stores of StoreType D are closed on Sundays only from October to December.\n"
   ]
  },
  {
   "cell_type": "markdown",
   "metadata": {},
   "source": [
    "## Sales affected by assorment for each types of store"
   ]
  },
  {
   "cell_type": "code",
   "execution_count": null,
   "metadata": {
    "collapsed": true
   },
   "outputs": [],
   "source": [
    "#sales affected by assorment for each types of store.\n",
    "train_store.groupby(['StoreType', 'Assortment']).Sales.mean()"
   ]
  },
  {
   "cell_type": "code",
   "execution_count": null,
   "metadata": {
    "collapsed": true
   },
   "outputs": [],
   "source": [
    "plt.figure(figsize=(15, 5))\n",
    "plt.subplot(121)\n",
    "sns.countplot(x='Assortment', data=train_store)\n",
    "plt.subplot(122)\n",
    "sns.barplot(x='Assortment', y='Sales', data=train_store)"
   ]
  },
  {
   "cell_type": "markdown",
   "metadata": {},
   "source": [
    "For every store there are definite assortment types and for each assortment there is a different sales value.Although b assortment type appears to make more sales value, they are very rare compared to other types. \n",
    "\n",
    "Assortment - describes an assortment level: a = basic, b = extra, c = extended"
   ]
  },
  {
   "cell_type": "markdown",
   "metadata": {},
   "source": [
    "## Sales affected by Competition distance"
   ]
  },
  {
   "cell_type": "code",
   "execution_count": null,
   "metadata": {
    "collapsed": true
   },
   "outputs": [],
   "source": [
    "train_store.plot.scatter(x='CompetitionDistance', y='Sales', legend=True, figsize=(10, 8))"
   ]
  },
  {
   "cell_type": "code",
   "execution_count": null,
   "metadata": {
    "collapsed": true
   },
   "outputs": [],
   "source": [
    "dfs1=train_store[['Promo','CompetitionDistance']]\n",
    "dfs1= dfs1[dfs1[\"Promo\"] != 0]\n",
    "dfs1.plot.scatter(x='CompetitionDistance', y='Promo', legend=True, figsize=(20, 5))"
   ]
  },
  {
   "cell_type": "markdown",
   "metadata": {},
   "source": [
    "From the first plot its clear that for low competition distance the sales value is higher. Althought the relatiosnhip is not clear from the first graph. However it appears that the stores who have competition Nearby, they are aggressively promoting their offers and hence more customers visit those stores resulting in more sales."
   ]
  },
  {
   "cell_type": "markdown",
   "metadata": {},
   "source": [
    "#### Conclusion from Exploratory Data Analysis\n",
    "\n",
    "- The most selling and crowded StoreType is A.\n",
    "- The best \"Sale per Customer\" StoreType D indicates to the higher Buyer Cart. To benefit from this fact, Rossmann can consider    proposing bigger variety of its products.\n",
    "- Low SalePerCustomer amount for StoreType B indicates to the possible fact that people shop there essentially for \"small\"          things. \n",
    "- Customers tends to buy more on Modays when there's one promotion (Promo) and on Sundays when there's no promotion at all (both    Promo and Promo1 are equal to 0).\n",
    "- Promo2 alone doesn't seem to be correlated to any significant change in the Sales amount.\n",
    "- B assortment type appears to make more sales value, they are very rare compared to other types.\n",
    "- Customers tend to visit stores which has competition nearby as stores are aggressively promoting their promos in these areas."
   ]
  },
  {
   "cell_type": "markdown",
   "metadata": {},
   "source": [
    "<h2>References</h2>\n",
    "<ul>\n",
    "    <p>Notebooks</p>\n",
    "    <li>https://www.kaggle.com/novikovanastya/submission-novikova</li>\n",
    "    <li>https://www.kaggle.com/evgenyvasilyev/evgeny-vasilyev</li>\n",
    "    <li>https://www.kaggle.com/dynamic22/rossman-store-sales-basic</li>\n",
    "</ul>"
   ]
  },
  {
   "cell_type": "markdown",
   "metadata": {
    "collapsed": true
   },
   "source": [
    "The code in the document by Kandarp and Naman is licensed under the MIT License https://opensource.org/licenses/MIT"
   ]
  }
 ],
 "metadata": {
  "kernelspec": {
   "display_name": "Python 3",
   "language": "python",
   "name": "python3"
  },
  "language_info": {
   "codemirror_mode": {
    "name": "ipython",
    "version": 3
   },
   "file_extension": ".py",
   "mimetype": "text/x-python",
   "name": "python",
   "nbconvert_exporter": "python",
   "pygments_lexer": "ipython3",
   "version": "3.6.3"
  },
  "varInspector": {
   "cols": {
    "lenName": 16,
    "lenType": 16,
    "lenVar": 40
   },
   "kernels_config": {
    "python": {
     "delete_cmd_postfix": "",
     "delete_cmd_prefix": "del ",
     "library": "var_list.py",
     "varRefreshCmd": "print(var_dic_list())"
    },
    "r": {
     "delete_cmd_postfix": ") ",
     "delete_cmd_prefix": "rm(",
     "library": "var_list.r",
     "varRefreshCmd": "cat(var_dic_list()) "
    }
   },
   "types_to_exclude": [
    "module",
    "function",
    "builtin_function_or_method",
    "instance",
    "_Feature"
   ],
   "window_display": false
  }
 },
 "nbformat": 4,
 "nbformat_minor": 2
}
